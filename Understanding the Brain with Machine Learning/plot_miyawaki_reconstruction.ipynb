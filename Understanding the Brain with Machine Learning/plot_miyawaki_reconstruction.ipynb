{
 "cells": [
  {
   "cell_type": "code",
   "execution_count": 1,
   "metadata": {},
   "outputs": [],
   "source": [
    "%matplotlib inline"
   ]
  },
  {
   "cell_type": "markdown",
   "metadata": {},
   "source": [
    "\n",
    "Reconstruction of visual stimuli from Miyawaki et al. 2008\n",
    "==========================================================\n",
    "\n",
    "This example reproduces the experiment presented in\n",
    "    `Visual image reconstruction from human brain activity\n",
    "    using a combination of multiscale local image decoders\n",
    "    <http://www.cell.com/neuron/abstract/S0896-6273%2808%2900958-6>`_,\n",
    "    Miyawaki, Y., Uchida, H., Yamashita, O., Sato, M. A.,\n",
    "    Morito, Y., Tanabe, H. C., ... & Kamitani, Y. (2008).\n",
    "    Neuron, 60(5), 915-929.\n",
    "\n",
    "It reconstructs 10x10 binary images from functional MRI data. Random images\n",
    "are used as training set and structured images are used for reconstruction.\n",
    "\n",
    "The code is a bit elaborate as the example uses, as the original article,\n",
    "a multiscale prediction on the images seen by the subject.\n",
    "\n",
    "See also\n",
    "`sphx_glr_auto_examples_02_decoding_plot_miyawaki_encoding.py` for a\n",
    "encoding approach for the same dataset.\n",
    "\n"
   ]
  },
  {
   "cell_type": "code",
   "execution_count": 2,
   "metadata": {},
   "outputs": [],
   "source": [
    "# Some basic imports\n",
    "import time\n",
    "import sys"
   ]
  },
  {
   "cell_type": "markdown",
   "metadata": {},
   "source": [
    "First we load the Miyawaki dataset\n",
    "-----------------------------------\n",
    "\n"
   ]
  },
  {
   "cell_type": "code",
   "execution_count": 3,
   "metadata": {},
   "outputs": [
    {
     "name": "stderr",
     "output_type": "stream",
     "text": [
      "/home/bertrand/.local/lib/python3.6/site-packages/sklearn/externals/joblib/__init__.py:15: DeprecationWarning: sklearn.externals.joblib is deprecated in 0.21 and will be removed in 0.23. Please import this functionality directly from joblib, which can be installed with: pip install joblib. If this warning is raised when loading pickled models, you may need to re-serialize those models with scikit-learn 0.21+.\n",
      "  warnings.warn(msg, category=DeprecationWarning)\n"
     ]
    },
    {
     "name": "stdout",
     "output_type": "stream",
     "text": [
      "First functional nifti image (4D) is located at: /home/bertrand/mygit/nilearn/nilearn_data/miyawaki2008/func/data_figure_run01.nii.gz\n"
     ]
    },
    {
     "name": "stderr",
     "output_type": "stream",
     "text": [
      "Fetching dataset... Done (0.00s).\n"
     ]
    }
   ],
   "source": [
    "from nilearn import datasets\n",
    "sys.stderr.write(\"Fetching dataset...\")\n",
    "t0 = time.time()\n",
    "\n",
    "miyawaki_dataset = datasets.fetch_miyawaki2008()\n",
    "\n",
    "# print basic information on the dataset\n",
    "print('First functional nifti image (4D) is located at: %s' %\n",
    "      miyawaki_dataset.func[0])  # 4D data\n",
    "\n",
    "X_random_filenames = miyawaki_dataset.func[12:]\n",
    "X_figure_filenames = miyawaki_dataset.func[:12]\n",
    "y_random_filenames = miyawaki_dataset.label[12:]\n",
    "y_figure_filenames = miyawaki_dataset.label[:12]\n",
    "y_shape = (10, 10)\n",
    "\n",
    "sys.stderr.write(\" Done (%.2fs).\\n\" % (time.time() - t0))"
   ]
  },
  {
   "cell_type": "markdown",
   "metadata": {},
   "source": [
    "Then we prepare and mask the data\n",
    "----------------------------------\n",
    "\n"
   ]
  },
  {
   "cell_type": "code",
   "execution_count": 4,
   "metadata": {},
   "outputs": [
    {
     "name": "stderr",
     "output_type": "stream",
     "text": [
      "Preprocessing data... Done (38.50s).\n"
     ]
    }
   ],
   "source": [
    "import numpy as np\n",
    "from nilearn.input_data import MultiNiftiMasker\n",
    "\n",
    "sys.stderr.write(\"Preprocessing data...\")\n",
    "t0 = time.time()\n",
    "\n",
    "# Load and mask fMRI data\n",
    "masker = MultiNiftiMasker(mask_img=miyawaki_dataset.mask, detrend=True,\n",
    "                          standardize=False)\n",
    "masker.fit()\n",
    "X_train = masker.transform(X_random_filenames)\n",
    "X_test = masker.transform(X_figure_filenames)\n",
    "\n",
    "# We load the visual stimuli from csv files\n",
    "y_train = []\n",
    "for y in y_random_filenames:\n",
    "    y_train.append(np.reshape(np.loadtxt(y, dtype=np.int, delimiter=','),\n",
    "                              (-1,) + y_shape, order='F'))\n",
    "\n",
    "y_test = []\n",
    "for y in y_figure_filenames:\n",
    "    y_test.append(np.reshape(np.loadtxt(y, dtype=np.int, delimiter=','),\n",
    "                             (-1,) + y_shape, order='F'))\n",
    "\n",
    "X_train = np.vstack([x[2:] for x in X_train])\n",
    "y_train = np.vstack([y[:-2] for y in y_train]).astype(float)\n",
    "X_test = np.vstack([x[2:] for x in X_test])\n",
    "y_test = np.vstack([y[:-2] for y in y_test]).astype(float)\n",
    "\n",
    "n_pixels = y_train.shape[1]\n",
    "n_features = X_train.shape[1]\n",
    "\n",
    "\n",
    "def flatten(list_of_2d_array):\n",
    "    flattened = []\n",
    "    for array in list_of_2d_array:\n",
    "        flattened.append(array.ravel())\n",
    "    return flattened\n",
    "\n",
    "\n",
    "# Build the design matrix for multiscale computation\n",
    "# Matrix is squared, y_rows == y_cols\n",
    "y_cols = y_shape[1]\n",
    "\n",
    "# Original data\n",
    "design_matrix = np.eye(100)\n",
    "\n",
    "\n",
    "# Example of matrix used for multiscale (sum pixels vertically)\n",
    "#\n",
    "# 0.5 *\n",
    "#\n",
    "# 1 1 0 0 0 0 0 0 0 0\n",
    "# 0 1 1 0 0 0 0 0 0 0\n",
    "# 0 0 1 1 0 0 0 0 0 0\n",
    "# 0 0 0 1 1 0 0 0 0 0\n",
    "# 0 0 0 0 1 1 0 0 0 0\n",
    "# 0 0 0 0 0 1 1 0 0 0\n",
    "# 0 0 0 0 0 0 1 1 0 0\n",
    "# 0 0 0 0 0 0 0 1 1 0\n",
    "# 0 0 0 0 0 0 0 0 1 1\n",
    "\n",
    "height_tf = (np.eye(y_cols) + np.eye(y_cols, k=1))[:y_cols - 1] * .5\n",
    "width_tf = height_tf.T\n",
    "\n",
    "yt_tall = [np.dot(height_tf, m) for m in y_train]\n",
    "yt_large = [np.dot(m, width_tf) for m in y_train]\n",
    "yt_big = [np.dot(height_tf, np.dot(m, width_tf)) for m in y_train]\n",
    "\n",
    "# Add it to the training set\n",
    "y_train = [np.r_[y.ravel(), t.ravel(), l.ravel(), b.ravel()]\n",
    "           for y, t, l, b in zip(y_train, yt_tall, yt_large, yt_big)]\n",
    "\n",
    "y_test = np.asarray(flatten(y_test))\n",
    "y_train = np.asarray(y_train)\n",
    "\n",
    "# Remove rest period\n",
    "X_train = X_train[y_train[:, 0] != -1]\n",
    "y_train = y_train[y_train[:, 0] != -1]\n",
    "X_test = X_test[y_test[:, 0] != -1]\n",
    "y_test = y_test[y_test[:, 0] != -1]\n",
    "\n",
    "sys.stderr.write(\" Done (%.2fs).\\n\" % (time.time() - t0))"
   ]
  },
  {
   "cell_type": "markdown",
   "metadata": {},
   "source": [
    "We define our prediction function\n",
    "-----------------------------------\n",
    "\n"
   ]
  },
  {
   "cell_type": "code",
   "execution_count": 5,
   "metadata": {},
   "outputs": [
    {
     "name": "stderr",
     "output_type": "stream",
     "text": [
      "Training classifiers 361/361... Done (73.35s).\n"
     ]
    }
   ],
   "source": [
    "sys.stderr.write(\"Training classifiers... \\r\")\n",
    "t0 = time.time()\n",
    "\n",
    "# OMP: Orthogonal Matching Pursuit\n",
    "from sklearn.linear_model import OrthogonalMatchingPursuit as OMP\n",
    "from sklearn.feature_selection import f_classif, SelectKBest\n",
    "from sklearn.pipeline import Pipeline\n",
    "\n",
    "# Create as many OMP as voxels to predict\n",
    "clfs = []\n",
    "n_clfs = y_train.shape[1]\n",
    "for i in range(y_train.shape[1]):\n",
    "    sys.stderr.write(\"Training classifiers %03d/%d... \\r\" % (i + 1, n_clfs))\n",
    "    clf = Pipeline([('selection', SelectKBest(f_classif, 500)),\n",
    "                    ('clf', OMP(n_nonzero_coefs=10))])\n",
    "    clf.fit(X_train, y_train[:, i])\n",
    "    clfs.append(clf)\n",
    "\n",
    "sys.stderr.write(\"Training classifiers %03d/%d... Done (%.2fs).\\n\" % (\n",
    "    n_clfs, n_clfs, time.time() - t0))"
   ]
  },
  {
   "cell_type": "markdown",
   "metadata": {},
   "source": [
    "Here we run the prediction: the decoding itself\n",
    "------------------------------------------------\n",
    "\n"
   ]
  },
  {
   "cell_type": "code",
   "execution_count": 6,
   "metadata": {},
   "outputs": [
    {
     "name": "stderr",
     "output_type": "stream",
     "text": [
      "Calculating scores and outputs... Done (5.16s).\n"
     ]
    }
   ],
   "source": [
    "sys.stderr.write(\"Calculating scores and outputs...\")\n",
    "t0 = time.time()\n",
    "\n",
    "y_pred = []\n",
    "for clf in clfs:\n",
    "    y_pred.append(clf.predict(X_test))\n",
    "y_pred = np.asarray(y_pred).T\n",
    "\n",
    "\n",
    "# We need to the multi scale reconstruction\n",
    "def split_multi_scale(y, y_shape):\n",
    "    \"\"\" Split data into 4 original multi_scale images\n",
    "    \"\"\"\n",
    "    yw, yh = y_shape\n",
    "\n",
    "    # Index of original image\n",
    "    split_index = [yw * yh]\n",
    "    # Index of large image\n",
    "    split_index.append(split_index[-1] + (yw - 1) * yh)\n",
    "    # Index of tall image\n",
    "    split_index.append(split_index[-1] + yw * (yh - 1))\n",
    "    # Index of big image\n",
    "    split_index.append(split_index[-1] + (yw - 1) * (yh - 1))\n",
    "\n",
    "    # We split according to computed indices\n",
    "    y_preds = np.split(y, split_index, axis=1)\n",
    "\n",
    "    # y_pred is the original image\n",
    "    y_pred = y_preds[0]\n",
    "\n",
    "    # y_pred_tall is the image with 1x2 patch application. We have to make\n",
    "    # some calculus to get it back in original shape\n",
    "    height_tf_i = (np.eye(y_cols) + np.eye(y_cols, k=-1))[:, :y_cols - 1] * .5\n",
    "    height_tf_i.flat[0] = 1\n",
    "    height_tf_i.flat[-1] = 1\n",
    "    y_pred_tall = [np.dot(height_tf_i, np.reshape(m, (yw - 1, yh))).flatten()\n",
    "                   for m in y_preds[1]]\n",
    "    y_pred_tall = np.asarray(y_pred_tall)\n",
    "\n",
    "    # y_pred_large is the image with 2x1 patch application. We have to make\n",
    "    # some calculus to get it back in original shape\n",
    "    width_tf_i = (np.eye(y_cols) + np.eye(y_cols, k=1))[:y_cols - 1] * .5\n",
    "    width_tf_i.flat[0] = 1\n",
    "    width_tf_i.flat[-1] = 1\n",
    "    y_pred_large = [np.dot(np.reshape(m, (yw, yh - 1)), width_tf_i).flatten()\n",
    "                    for m in y_preds[2]]\n",
    "    y_pred_large = np.asarray(y_pred_large)\n",
    "\n",
    "    # y_pred_big is the image with 2x2 patch application. We use previous\n",
    "    # matrices to get it back in original shape\n",
    "    y_pred_big = [np.dot(np.reshape(m, (yw - 1, yh - 1)), width_tf_i)\n",
    "                  for m in y_preds[3]]\n",
    "    y_pred_big = [np.dot(height_tf_i, np.reshape(m, (yw - 1, yh))).flatten()\n",
    "                  for m in y_pred_big]\n",
    "    y_pred_big = np.asarray(y_pred_big)\n",
    "\n",
    "    return (y_pred, y_pred_tall, y_pred_large, y_pred_big)\n",
    "\n",
    "\n",
    "y_pred, y_pred_tall, y_pred_large, y_pred_big = \\\n",
    "    split_multi_scale(y_pred, y_shape)\n",
    "\n",
    "y_pred = (.25 * y_pred + .25 * y_pred_tall + .25 * y_pred_large\n",
    "          + .25 * y_pred_big)\n",
    "\n",
    "sys.stderr.write(\" Done (%.2fs).\\n\" % (time.time() - t0))"
   ]
  },
  {
   "cell_type": "markdown",
   "metadata": {},
   "source": [
    "Let us quantify our prediction error\n",
    "-------------------------------------\n",
    "\n"
   ]
  },
  {
   "cell_type": "code",
   "execution_count": 7,
   "metadata": {},
   "outputs": [
    {
     "name": "stdout",
     "output_type": "stream",
     "text": [
      "Scores\n",
      "------\n",
      "  - Accuracy (percent): 0.801208\n",
      "  - Precision: 0.413969\n",
      "  - Recall: 0.572388\n"
     ]
    },
    {
     "name": "stderr",
     "output_type": "stream",
     "text": [
      "/home/bertrand/.local/lib/python3.6/site-packages/sklearn/metrics/classification.py:1439: UndefinedMetricWarning: Recall is ill-defined and being set to 0.0 due to no true samples.\n",
      "  'recall', 'true', average, warn_for)\n",
      "/home/bertrand/.local/lib/python3.6/site-packages/sklearn/metrics/classification.py:1439: UndefinedMetricWarning: F-score is ill-defined and being set to 0.0 due to no true samples.\n",
      "  'recall', 'true', average, warn_for)\n"
     ]
    },
    {
     "name": "stdout",
     "output_type": "stream",
     "text": [
      "  - F1-score: 0.465973\n"
     ]
    }
   ],
   "source": [
    "from sklearn.metrics import (accuracy_score, precision_score, recall_score,\n",
    "                             f1_score)\n",
    "\n",
    "print(\"Scores\")\n",
    "print(\"------\")\n",
    "print(\"  - Accuracy (percent): %f\" % np.mean([\n",
    "    accuracy_score(y_test[:, i], y_pred[:, i] > .5) for i in range(100)]))\n",
    "print(\"  - Precision: %f\" % np.mean([\n",
    "    precision_score(y_test[:, i], y_pred[:, i] > .5) for i in range(100)]))\n",
    "print(\"  - Recall: %f\" % np.mean([\n",
    "    recall_score(y_test[:, i], y_pred[:, i] > .5) for i in range(100)]))\n",
    "print(\"  - F1-score: %f\" % np.mean([\n",
    "    f1_score(y_test[:, i], y_pred[:, i] > .5) for i in range(100)]))"
   ]
  },
  {
   "cell_type": "markdown",
   "metadata": {},
   "source": [
    "And finally, we plot six reconstructed images, to compare with\n",
    "ground truth\n",
    "\n"
   ]
  },
  {
   "cell_type": "code",
   "execution_count": 8,
   "metadata": {},
   "outputs": [
    {
     "data": {
      "image/png": "[encoded data removed]",
      "text/plain": [
       "<Figure size 432x288 with 3 Axes>"
      ]
     },
     "metadata": {
      "needs_background": "light"
     },
     "output_type": "display_data"
    },
    {
     "data": {
      "image/png": "[encoded data removed]",
      "text/plain": [
       "<Figure size 432x288 with 3 Axes>"
      ]
     },
     "metadata": {
      "needs_background": "light"
     },
     "output_type": "display_data"
    },
    {
     "data": {
      "image/png": "[encoded data removed]",
      "text/plain": [
       "<Figure size 432x288 with 3 Axes>"
      ]
     },
     "metadata": {
      "needs_background": "light"
     },
     "output_type": "display_data"
    },
    {
     "data": {
      "image/png": "[encoded data removed]",
      "text/plain": [
       "<Figure size 432x288 with 3 Axes>"
      ]
     },
     "metadata": {
      "needs_background": "light"
     },
     "output_type": "display_data"
    },
    {
     "data": {
      "image/png": "[encoded data removed]",
      "text/plain": [
       "<Figure size 432x288 with 3 Axes>"
      ]
     },
     "metadata": {
      "needs_background": "light"
     },
     "output_type": "display_data"
    },
    {
     "data": {
      "image/png": "[encoded data removed]",
      "text/plain": [
       "<Figure size 432x288 with 3 Axes>"
      ]
     },
     "metadata": {
      "needs_background": "light"
     },
     "output_type": "display_data"
    }
   ],
   "source": [
    "from matplotlib import pyplot as plt\n",
    "from nilearn.plotting import show\n",
    "\n",
    "for i in range(6):\n",
    "    j = 10 * i\n",
    "    fig = plt.figure()\n",
    "    sp1 = plt.subplot(131)\n",
    "    sp1.axis('off')\n",
    "    plt.title('Stimulus')\n",
    "    sp2 = plt.subplot(132)\n",
    "    sp2.axis('off')\n",
    "    plt.title('Reconstruction')\n",
    "    sp3 = plt.subplot(133)\n",
    "    sp3.axis('off')\n",
    "    plt.title('Binarized')\n",
    "    sp1.imshow(np.reshape(y_test[j], (10, 10)), cmap=plt.cm.gray,\n",
    "               interpolation='nearest'),\n",
    "    sp2.imshow(np.reshape(y_pred[j], (10, 10)), cmap=plt.cm.gray,\n",
    "               interpolation='nearest'),\n",
    "    sp3.imshow(np.reshape(y_pred[j] > .5, (10, 10)), cmap=plt.cm.gray,\n",
    "               interpolation='nearest')\n",
    "    plt.savefig('miyawaki2008_reconstruction_%d' % i)\n",
    "\n",
    "show()"
   ]
  },
  {
   "cell_type": "code",
   "execution_count": null,
   "metadata": {},
   "outputs": [],
   "source": []
  }
 ],
 "metadata": {
  "kernelspec": {
   "display_name": "Python 3",
   "language": "python",
   "name": "python3"
  },
  "language_info": {
   "codemirror_mode": {
    "name": "ipython",
    "version": 3
   },
   "file_extension": ".py",
   "mimetype": "text/x-python",
   "name": "python",
   "nbconvert_exporter": "python",
   "pygments_lexer": "ipython3",
   "version": "3.6.7"
  }
 },
 "nbformat": 4,
 "nbformat_minor": 1
}
