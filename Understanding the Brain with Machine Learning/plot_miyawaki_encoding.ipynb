{
 "cells": [
  {
   "cell_type": "code",
   "execution_count": 1,
   "metadata": {},
   "outputs": [],
   "source": [
    "%matplotlib inline"
   ]
  },
  {
   "cell_type": "markdown",
   "metadata": {},
   "source": [
    "\n",
    "============================================================\n",
    "Encoding models for visual stimuli from Miyawaki et al. 2008\n",
    "============================================================\n",
    "\n",
    "This example partly reproduces the encoding model presented in\n",
    "    `Visual image reconstruction from human brain activity\n",
    "    using a combination of multiscale local image decoders\n",
    "    <http://www.cell.com/neuron/abstract/S0896-6273%2808%2900958-6>`_,\n",
    "    Miyawaki, Y., Uchida, H., Yamashita, O., Sato, M. A.,\n",
    "    Morito, Y., Tanabe, H. C., ... & Kamitani, Y. (2008).\n",
    "    Neuron, 60(5), 915-929.\n",
    "\n",
    "Encoding models try to predict neuronal activity using information from\n",
    "presented stimuli, like an image or sound. Where decoding goes from\n",
    "brain data to real-world stimulus, encoding goes the other direction.\n",
    "\n",
    "We demonstrate how to build such an **encoding model** in nilearn, predicting\n",
    "**fMRI data** from **visual stimuli**, using the dataset from\n",
    "`Miyawaki et al., 2008\n",
    "<http://www.cell.com/neuron/abstract/S0896-6273%2808%2900958-6>`_.\n",
    "\n",
    "Participants were shown images, which consisted of random 10x10 binary\n",
    "(either black or white) pixels, and the corresponding fMRI activity was\n",
    "recorded. We will try to predict the activity in each voxel\n",
    "from the binary pixel-values of the presented images. Then we extract the\n",
    "receptive fields for a set of voxels to see which pixel location a voxel\n",
    "is most sensitive to.\n",
    "\n",
    "See also :doc:`plot_miyawaki_reconstruction` for a decoding\n",
    "approach for the same dataset.\n",
    "\n"
   ]
  },
  {
   "cell_type": "markdown",
   "metadata": {},
   "source": [
    "Loading the data\n",
    "----------------\n",
    "Now we can load the data set:\n",
    "\n"
   ]
  },
  {
   "cell_type": "code",
   "execution_count": 2,
   "metadata": {},
   "outputs": [
    {
     "name": "stderr",
     "output_type": "stream",
     "text": [
      "/home/bertrand/.local/lib/python3.6/site-packages/sklearn/externals/joblib/__init__.py:15: DeprecationWarning: sklearn.externals.joblib is deprecated in 0.21 and will be removed in 0.23. Please import this functionality directly from joblib, which can be installed with: pip install joblib. If this warning is raised when loading pickled models, you may need to re-serialize those models with scikit-learn 0.21+.\n",
      "  warnings.warn(msg, category=DeprecationWarning)\n"
     ]
    },
    {
     "name": "stdout",
     "output_type": "stream",
     "text": [
      "Downloading data from https://www.nitrc.org/frs/download.php/8486/miyawaki2008.tgz ...\n"
     ]
    },
    {
     "name": "stderr",
     "output_type": "stream",
     "text": [
      "Downloaded 161069109 of 161069109 bytes (100.0%,    0.0s remaining) ...done. (161 seconds, 2 min)\n",
      "Extracting data from /home/bertrand/mygit/nilearn/nilearn_data/miyawaki2008/4356183cd5ae215342603c6edeb89f54/miyawaki2008.tgz..... done.\n"
     ]
    }
   ],
   "source": [
    "from nilearn.datasets import fetch_miyawaki2008\n",
    "\n",
    "dataset = fetch_miyawaki2008()"
   ]
  },
  {
   "cell_type": "markdown",
   "metadata": {},
   "source": [
    "We only use the training data of this study,\n",
    "where random binary images were shown.\n",
    "\n"
   ]
  },
  {
   "cell_type": "code",
   "execution_count": 3,
   "metadata": {},
   "outputs": [],
   "source": [
    "# training data starts after the first 12 files\n",
    "fmri_random_runs_filenames = dataset.func[12:]\n",
    "stimuli_random_runs_filenames = dataset.label[12:]"
   ]
  },
  {
   "cell_type": "markdown",
   "metadata": {},
   "source": [
    "We can use :func:`nilearn.input_data.MultiNiftiMasker` to load the fMRI\n",
    "data, clean and mask it.\n",
    "\n"
   ]
  },
  {
   "cell_type": "code",
   "execution_count": 4,
   "metadata": {},
   "outputs": [],
   "source": [
    "import numpy as np\n",
    "from nilearn.input_data import MultiNiftiMasker\n",
    "\n",
    "masker = MultiNiftiMasker(mask_img=dataset.mask, detrend=True,\n",
    "                          standardize=True)\n",
    "masker.fit()\n",
    "fmri_data = masker.transform(fmri_random_runs_filenames)\n",
    "\n",
    "# shape of the binary (i.e. black and wihte values) image in pixels\n",
    "stimulus_shape = (10, 10)\n",
    "\n",
    "# We load the visual stimuli from csv files\n",
    "stimuli = []\n",
    "for stimulus_run in stimuli_random_runs_filenames:\n",
    "    stimuli.append(np.reshape(np.loadtxt(stimulus_run,\n",
    "                              dtype=np.int, delimiter=','),\n",
    "                              (-1,) + stimulus_shape, order='F'))"
   ]
  },
  {
   "cell_type": "markdown",
   "metadata": {},
   "source": [
    "Let's take a look at some of these binary images:\n",
    "\n"
   ]
  },
  {
   "cell_type": "code",
   "execution_count": 5,
   "metadata": {},
   "outputs": [
    {
     "data": {
      "image/png": "[encoded data removed]",
      "text/plain": [
       "<Figure size 576x288 with 2 Axes>"
      ]
     },
     "metadata": {
      "needs_background": "light"
     },
     "output_type": "display_data"
    }
   ],
   "source": [
    "import pylab as plt\n",
    "plt.figure(figsize=(8, 4))\n",
    "plt.subplot(1, 2, 1)\n",
    "plt.imshow(stimuli[0][124], interpolation='nearest', cmap='gray')\n",
    "plt.axis('off')\n",
    "plt.title('Run {}, Stimulus {}'.format(1, 125))\n",
    "plt.subplot(1, 2, 2)\n",
    "plt.imshow(stimuli[2][101], interpolation='nearest', cmap='gray')\n",
    "plt.axis('off')\n",
    "plt.title('Run {}, Stimulus {}'.format(3, 102))\n",
    "plt.subplots_adjust(wspace=0.5)"
   ]
  },
  {
   "cell_type": "markdown",
   "metadata": {},
   "source": [
    "We now stack the fmri and stimulus data and remove an offset in the\n",
    "beginning/end.\n",
    "\n"
   ]
  },
  {
   "cell_type": "code",
   "execution_count": 6,
   "metadata": {},
   "outputs": [],
   "source": [
    "fmri_data = np.vstack([fmri_run[2:] for fmri_run in fmri_data])\n",
    "stimuli = np.vstack([stimuli_run[:-2] for stimuli_run in stimuli]).astype(float)"
   ]
  },
  {
   "cell_type": "markdown",
   "metadata": {},
   "source": [
    "fmri_data is a matrix of *samples* x *voxels*\n",
    "\n"
   ]
  },
  {
   "cell_type": "code",
   "execution_count": 7,
   "metadata": {},
   "outputs": [
    {
     "name": "stdout",
     "output_type": "stream",
     "text": [
      "(2860, 5438)\n"
     ]
    }
   ],
   "source": [
    "print(fmri_data.shape)"
   ]
  },
  {
   "cell_type": "markdown",
   "metadata": {},
   "source": [
    "We flatten the last two dimensions of stimuli\n",
    "so it is a matrix of *samples* x *pixels*.\n",
    "\n"
   ]
  },
  {
   "cell_type": "code",
   "execution_count": 8,
   "metadata": {},
   "outputs": [
    {
     "name": "stdout",
     "output_type": "stream",
     "text": [
      "(2860, 100)\n"
     ]
    }
   ],
   "source": [
    "# Flatten the stimuli\n",
    "stimuli = np.reshape(stimuli, (-1, stimulus_shape[0] * stimulus_shape[1]))\n",
    "\n",
    "print(stimuli.shape)"
   ]
  },
  {
   "cell_type": "markdown",
   "metadata": {},
   "source": [
    "Building the encoding models\n",
    "----------------------------\n",
    "We can now proceed to build a simple **voxel-wise encoding model** using\n",
    "`Ridge regression <http://en.wikipedia.org/wiki/Tikhonov_regularization>`_.\n",
    "For each voxel we fit an independent regression model,\n",
    "using the pixel-values of the visual stimuli to predict the neuronal\n",
    "activity in this voxel.\n",
    "\n"
   ]
  },
  {
   "cell_type": "code",
   "execution_count": 9,
   "metadata": {},
   "outputs": [],
   "source": [
    "from sklearn.linear_model import Ridge\n",
    "from sklearn.model_selection import KFold"
   ]
  },
  {
   "cell_type": "markdown",
   "metadata": {},
   "source": [
    "Using 10-fold cross-validation, we partition the data into 10 'folds'.\n",
    "We hold out each fold of the data for testing, then fit a ridge regression\n",
    "to the remaining 9/10 of the data, using stimuli as predictors\n",
    "and fmri_data as targets, and create predictions for the held-out 10th.\n",
    "\n"
   ]
  },
  {
   "cell_type": "code",
   "execution_count": 10,
   "metadata": {},
   "outputs": [],
   "source": [
    "from sklearn.metrics import r2_score\n",
    "\n",
    "estimator = Ridge(alpha=100.)\n",
    "cv = KFold(n_splits=10)\n",
    "\n",
    "scores = []\n",
    "for train, test in cv.split(X=stimuli):\n",
    "    # we train the Ridge estimator on the training set\n",
    "    # and predict the fMRI activity for the test set\n",
    "    predictions = Ridge(alpha=100.).fit(\n",
    "    stimuli.reshape(-1, 100)[train], fmri_data[train]).predict(\n",
    "        stimuli.reshape(-1, 100)[test])\n",
    "    # we compute how much variance our encoding model explains in each voxel\n",
    "    scores.append(r2_score(fmri_data[test], predictions,\n",
    "                           multioutput='raw_values'))"
   ]
  },
  {
   "cell_type": "markdown",
   "metadata": {},
   "source": [
    "Mapping the encoding scores on the brain\n",
    "----------------------------------------\n",
    "To plot the scores onto the brain, we create a Nifti1Image containing\n",
    "the scores and then threshold it:\n",
    "\n"
   ]
  },
  {
   "cell_type": "code",
   "execution_count": 11,
   "metadata": {},
   "outputs": [],
   "source": [
    "from nilearn.image import threshold_img\n",
    "cut_score = np.mean(scores, axis=0)\n",
    "cut_score[cut_score < 0] = 0\n",
    "\n",
    "# bring the scores into the shape of the background brain\n",
    "score_map_img = masker.inverse_transform(cut_score)\n",
    "\n",
    "thresholded_score_map_img = threshold_img(score_map_img, threshold=1e-6)"
   ]
  },
  {
   "cell_type": "markdown",
   "metadata": {},
   "source": [
    "Plotting the statistical map on a background brain, we mark four voxels\n",
    "which we will inspect more closely later on.\n",
    "\n"
   ]
  },
  {
   "cell_type": "code",
   "execution_count": 12,
   "metadata": {},
   "outputs": [
    {
     "name": "stderr",
     "output_type": "stream",
     "text": [
      "/home/bertrand/.local/lib/python3.6/site-packages/matplotlib/figure.py:98: MatplotlibDeprecationWarning: \n",
      "Adding an axes using the same arguments as a previous axes currently reuses the earlier instance.  In a future version, a new instance will always be created and returned.  Meanwhile, this warning can be suppressed, and the future behavior ensured, by passing a unique label to each axes instance.\n",
      "  \"Adding an axes using the same arguments as a previous axes \"\n"
     ]
    },
    {
     "data": {
      "image/png": "[encoded data removed]",
      "text/plain": [
       "<Figure size 864x864 with 2 Axes>"
      ]
     },
     "metadata": {},
     "output_type": "display_data"
    }
   ],
   "source": [
    "from nilearn.plotting import plot_stat_map\n",
    "from nilearn.image import coord_transform\n",
    "\n",
    "def index_to_xy_coord(x, y, z=10):\n",
    "    '''Transforms data index to coordinates of the background + offset'''\n",
    "    coords = coord_transform(x, y, z,\n",
    "                             affine=thresholded_score_map_img.affine)\n",
    "    return np.array(coords)[np.newaxis, :] + np.array([0, 1, 0])\n",
    "\n",
    "\n",
    "xy_indices_of_special_voxels = [(30, 10), (32, 10), (31, 9), (31, 10)]\n",
    "\n",
    "display = plot_stat_map(thresholded_score_map_img, bg_img=dataset.background,\n",
    "                        cut_coords=[-8], display_mode='z', aspect=1.25,\n",
    "                        title='Explained variance per voxel')\n",
    "\n",
    "# creating a marker for each voxel and adding it to the statistical map\n",
    "\n",
    "for i, (x, y) in enumerate(xy_indices_of_special_voxels):\n",
    "    display.add_markers(index_to_xy_coord(x, y), marker_color='none',\n",
    "                        edgecolor=['b', 'r', 'magenta', 'g'][i],\n",
    "                        marker_size=140, marker='s',\n",
    "                        facecolor='none', lw=4.5)\n",
    "\n",
    "\n",
    "# re-set figure size after construction so colorbar gets rescaled too\n",
    "fig = plt.gcf()\n",
    "fig.set_size_inches(12, 12)"
   ]
  },
  {
   "cell_type": "markdown",
   "metadata": {},
   "source": [
    "Estimating receptive fields\n",
    "---------------------------\n",
    "Now we take a closer look at the receptive fields of the four marked voxels.\n",
    "A voxel's `receptive field <http://en.wikipedia.org/wiki/Receptive_field>`_\n",
    "is the region of a stimulus (like an image) where the presence of an object,\n",
    "like a white instead of a black pixel, results in a change in activity\n",
    "in the voxel. In our case the receptive field is just the vector of 100\n",
    "regression  coefficients (one for each pixel) reshaped into the 10x10\n",
    "form of the original images. Some voxels are receptive to only very few\n",
    "pixels, so we use `Lasso regression\n",
    "<http://en.wikipedia.org/wiki/Lasso_(statistics)>`_ to estimate a sparse\n",
    "set of regression coefficients.\n",
    "\n"
   ]
  },
  {
   "cell_type": "code",
   "execution_count": 13,
   "metadata": {},
   "outputs": [
    {
     "name": "stderr",
     "output_type": "stream",
     "text": [
      "/home/bertrand/.local/lib/python3.6/site-packages/sklearn/model_selection/_split.py:1978: FutureWarning: The default value of cv will change from 3 to 5 in version 0.22. Specify it explicitly to silence this warning.\n",
      "  warnings.warn(CV_WARNING, FutureWarning)\n",
      "/home/bertrand/.local/lib/python3.6/site-packages/sklearn/model_selection/_split.py:1978: FutureWarning: The default value of cv will change from 3 to 5 in version 0.22. Specify it explicitly to silence this warning.\n",
      "  warnings.warn(CV_WARNING, FutureWarning)\n",
      "/home/bertrand/.local/lib/python3.6/site-packages/sklearn/model_selection/_split.py:1978: FutureWarning: The default value of cv will change from 3 to 5 in version 0.22. Specify it explicitly to silence this warning.\n",
      "  warnings.warn(CV_WARNING, FutureWarning)\n",
      "/home/bertrand/.local/lib/python3.6/site-packages/sklearn/model_selection/_split.py:1978: FutureWarning: The default value of cv will change from 3 to 5 in version 0.22. Specify it explicitly to silence this warning.\n",
      "  warnings.warn(CV_WARNING, FutureWarning)\n"
     ]
    },
    {
     "data": {
      "text/plain": [
       "<matplotlib.colorbar.Colorbar at 0x7f9bb021fdd8>"
      ]
     },
     "execution_count": 13,
     "metadata": {},
     "output_type": "execute_result"
    },
    {
     "data": {
      "image/png": "[encoded data removed]",
      "text/plain": [
       "<Figure size 864x576 with 8 Axes>"
      ]
     },
     "metadata": {
      "needs_background": "light"
     },
     "output_type": "display_data"
    }
   ],
   "source": [
    "from sklearn.linear_model import LassoLarsCV\n",
    "\n",
    "# automatically estimate the sparsity by cross-validation\n",
    "lasso = LassoLarsCV(max_iter=10)\n",
    "\n",
    "# Mark the same pixel in each receptive field\n",
    "marked_pixel = (4, 2)\n",
    "\n",
    "from matplotlib import gridspec\n",
    "from matplotlib.patches import Rectangle\n",
    "\n",
    "fig = plt.figure(figsize=(12, 8))\n",
    "fig.suptitle('Receptive fields of the marked voxels', fontsize=25)\n",
    "\n",
    "# GridSpec allows us to do subplots with more control of the spacing\n",
    "gs1 = gridspec.GridSpec(2, 3)\n",
    "\n",
    "# we fit the Lasso for each of the three voxels of the upper row\n",
    "for i, index in enumerate([1780, 1951, 2131]):\n",
    "    ax = plt.subplot(gs1[0, i])\n",
    "    # we reshape the coefficients into the form of the original images\n",
    "    rf = lasso.fit(stimuli, fmri_data[:, index]).coef_.reshape((10, 10))\n",
    "    # add a black background\n",
    "    ax.imshow(np.zeros_like(rf), vmin=0., vmax=1., cmap='gray')\n",
    "    ax_im = ax.imshow(np.ma.masked_less(rf, 0.1), interpolation=\"nearest\",\n",
    "                      cmap=['Blues', 'Greens', 'Reds'][i], vmin=0., vmax=0.75)\n",
    "    # add the marked pixel\n",
    "    ax.add_patch(Rectangle(\n",
    "        (marked_pixel[1] - .5, marked_pixel[0] - .5), 1, 1,\n",
    "        facecolor='none', edgecolor='r', lw=4))\n",
    "    plt.axis('off')\n",
    "    plt.colorbar(ax_im, ax=ax)\n",
    "\n",
    "# and then for the voxel at the bottom\n",
    "\n",
    "gs1.update(left=0., right=1., wspace=0.1)\n",
    "ax = plt.subplot(gs1[1, 1])\n",
    "# we reshape the coefficients into the form of the original images\n",
    "rf = lasso.fit(stimuli, fmri_data[:, 1935]).coef_.reshape((10, 10))\n",
    "ax.imshow(np.zeros_like(rf), vmin=0., vmax=1., cmap='gray')\n",
    "ax_im = ax.imshow(np.ma.masked_less(rf, 0.1), interpolation=\"nearest\",\n",
    "                  cmap='RdPu', vmin=0., vmax=0.75)\n",
    "\n",
    "# add the marked pixel\n",
    "ax.add_patch(Rectangle(\n",
    "    (marked_pixel[1] - .5, marked_pixel[0] - .5), 1, 1,\n",
    "    facecolor='none', edgecolor='r', lw=4))\n",
    "plt.axis('off')\n",
    "plt.colorbar(ax_im, ax=ax)"
   ]
  },
  {
   "cell_type": "markdown",
   "metadata": {},
   "source": [
    "The receptive fields of the four voxels are not only close to each other,\n",
    "the relative location of the pixel each voxel is most sensitive to\n",
    "roughly maps to the relative location of the voxels to each other.\n",
    "We can see a relationship between some voxel's receptive field and\n",
    "its location in the brain.\n",
    "\n"
   ]
  },
  {
   "cell_type": "code",
   "execution_count": null,
   "metadata": {},
   "outputs": [],
   "source": []
  }
 ],
 "metadata": {
  "kernelspec": {
   "display_name": "Python 3",
   "language": "python",
   "name": "python3"
  },
  "language_info": {
   "codemirror_mode": {
    "name": "ipython",
    "version": 3
   },
   "file_extension": ".py",
   "mimetype": "text/x-python",
   "name": "python",
   "nbconvert_exporter": "python",
   "pygments_lexer": "ipython3",
   "version": "3.6.7"
  }
 },
 "nbformat": 4,
 "nbformat_minor": 1
}
